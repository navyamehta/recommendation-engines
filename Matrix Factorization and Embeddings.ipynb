{
 "cells": [
  {
   "cell_type": "code",
   "execution_count": 11,
   "metadata": {},
   "outputs": [],
   "source": [
    "import pandas as pd\n",
    "import numpy as np\n",
    "import scipy as sp\n",
    "import os\n",
    "import gc\n",
    "import collections"
   ]
  },
  {
   "cell_type": "markdown",
   "metadata": {},
   "source": [
    "<h2> Set up Custom Gradient Descent </h2>"
   ]
  },
  {
   "cell_type": "code",
   "execution_count": 12,
   "metadata": {},
   "outputs": [],
   "source": [
    "intmatrix = np.load(\"./data/movie-matrix.npz\")[\"data\"]\n",
    "#Let us define 512-length vector embeddings for users and items such that we prefer higher inner products\n",
    "latentdim = 512\n",
    "np.random.seed(1)\n",
    "Usr = np.random.normal(loc=0, scale=1, size=(intmatrix.shape[0], latentdim))\n",
    "Itm = np.random.normal(loc=0, scale=1, size=(latentdim, intmatrix.shape[1]))"
   ]
  },
  {
   "cell_type": "code",
   "execution_count": 13,
   "metadata": {},
   "outputs": [],
   "source": [
    "mean = np.sum(intmatrix, axis=1)/(intmatrix!=0).sum(axis=1)\n",
    "zmask = intmatrix==0\n",
    "intmatrix = intmatrix-mean.reshape(-1,1)\n",
    "intmatrix[zmask]=0"
   ]
  },
  {
   "cell_type": "code",
   "execution_count": 14,
   "metadata": {},
   "outputs": [],
   "source": [
    "#Define Loss\n",
    "#We add the inner products of all users-items above user-mean and subtract the inner products of all user-items\n",
    "#below mean. We must maximize this quantity, and hence minimize its negation\n",
    "def embed_loss(Usr, Itm, intmatrix, wbl=0):\n",
    "    mat = np.matmul(Usr, Itm)\n",
    "    posquant = mat[intmatrix>0].sum()\n",
    "    negquant = mat[intmatrix<0].sum()\n",
    "    return negquant-posquant"
   ]
  },
  {
   "cell_type": "code",
   "execution_count": 15,
   "metadata": {},
   "outputs": [
    {
     "data": {
      "text/plain": [
       "-4792.202913091733"
      ]
     },
     "execution_count": 15,
     "metadata": {},
     "output_type": "execute_result"
    }
   ],
   "source": [
    "embed_loss(Usr, Itm, intmatrix)"
   ]
  },
  {
   "cell_type": "markdown",
   "metadata": {},
   "source": [
    "When defining the gradient at each epoch, we realise that, for our embed_loss function $L$, the user matrix P, and the item matrix Q: <br/>\n",
    "$\\frac{dL}{dP} = D \\cdot Q^T$ <br/>\n",
    "$\\frac{dL}{dQ} = P^T \\cdot D$ <br/>\n",
    "where D is a matrix with the same dimensions as intmatrix W, 943x1682, and for $1\\leq i \\leq 943, 1\\leq j \\leq 1682,$ <br/> $D_{i,j} = -1$ if $W_{i,j}>0$, $1$ if $W_{i,j}<0$ else $0$. Hence D just represents the sign that the inner product takes inside the embed_loss function. Since we negate the result in embed_loss, we can subtract our gradient, in context of a learning rate, at each epoch. Specifically, for epoch $i$, $1 \\leq i \\leq n$, we can define $P_{i}$ and $Q_{i}$, with $P_{0}$ and $Q_{0}$ being initialized: <br/>\n",
    "$P_{i} = P_{i-1}-\\alpha \\cdot \\frac{dL_{i-1}}{dP_{i-1}}$ <br/>\n",
    "$Q_{i} = Q_{i-1}-\\alpha \\cdot \\frac{dL_{i-1}}{dQ_{i-1}}$ <br/>\n",
    "for a learning rate $\\alpha$"
   ]
  },
  {
   "cell_type": "code",
   "execution_count": 17,
   "metadata": {},
   "outputs": [],
   "source": [
    "#Make the mask matrix D\n",
    "D = np.zeros((intmatrix.shape[0], intmatrix.shape[1]))\n",
    "D[intmatrix>0] = -1\n",
    "D[intmatrix<0] = 1"
   ]
  },
  {
   "cell_type": "code",
   "execution_count": 28,
   "metadata": {},
   "outputs": [],
   "source": [
    "def epoch_updater(P, Q, D, alpha):\n",
    "    gradP = np.matmul(D, Q.T)\n",
    "    gradQ = np.matmul(P.T, D)\n",
    "    return P-alpha*gradP, Q-alpha*gradQ"
   ]
  },
  {
   "cell_type": "markdown",
   "metadata": {},
   "source": [
    "<h2> Perform Gradient Descent to Create Recommendation Matrix </h2>"
   ]
  },
  {
   "cell_type": "code",
   "execution_count": null,
   "metadata": {},
   "outputs": [],
   "source": []
  },
  {
   "cell_type": "code",
   "execution_count": null,
   "metadata": {},
   "outputs": [],
   "source": []
  },
  {
   "cell_type": "code",
   "execution_count": null,
   "metadata": {},
   "outputs": [],
   "source": []
  },
  {
   "cell_type": "code",
   "execution_count": null,
   "metadata": {},
   "outputs": [],
   "source": []
  },
  {
   "cell_type": "code",
   "execution_count": null,
   "metadata": {},
   "outputs": [],
   "source": []
  }
 ],
 "metadata": {
  "kernelspec": {
   "display_name": "Python 3",
   "language": "python",
   "name": "python3"
  },
  "language_info": {
   "codemirror_mode": {
    "name": "ipython",
    "version": 3
   },
   "file_extension": ".py",
   "mimetype": "text/x-python",
   "name": "python",
   "nbconvert_exporter": "python",
   "pygments_lexer": "ipython3",
   "version": "3.6.8"
  }
 },
 "nbformat": 4,
 "nbformat_minor": 2
}
