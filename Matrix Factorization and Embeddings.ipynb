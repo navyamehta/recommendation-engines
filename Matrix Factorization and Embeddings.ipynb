{
 "cells": [
  {
   "cell_type": "code",
   "execution_count": 1,
   "metadata": {},
   "outputs": [],
   "source": [
    "import pandas as pd\n",
    "import numpy as np\n",
    "import scipy as sp\n",
    "import os\n",
    "import gc\n",
    "import collections"
   ]
  },
  {
   "cell_type": "markdown",
   "metadata": {},
   "source": [
    "<h2> Custom Gradient Descent </h2>"
   ]
  },
  {
   "cell_type": "code",
   "execution_count": 7,
   "metadata": {},
   "outputs": [],
   "source": [
    "intmatrix = np.load(\"./data/movie-matrix.npz\")[\"data\"]\n",
    "#Let us define 512-length vector embeddings for users and items such that we prefer higher inner products\n",
    "latentdim = 512\n",
    "Usr = np.random.normal(loc=0, scale=1, size=(intmatrix.shape[0], latentdim))\n",
    "Itm = np.random.normal(loc=0, scale=1, size=(latentdim, intmatrix.shape[1]))"
   ]
  },
  {
   "cell_type": "code",
   "execution_count": 10,
   "metadata": {},
   "outputs": [],
   "source": [
    "mean = np.sum(intmatrix, axis=1)/(intmatrix!=0).sum(axis=1)\n",
    "zmask = intmatrix==0\n",
    "intmatrix = intmatrix-mean.reshape(-1,1)\n",
    "intmatrix[zmask]=0"
   ]
  },
  {
   "cell_type": "code",
   "execution_count": 19,
   "metadata": {},
   "outputs": [],
   "source": [
    "#Define Loss\n",
    "#We add the inner products of all users-items above user-mean and subtract the inner products of all user-items\n",
    "#below mean. We must maximize this quantity, and hence minimize its negation\n",
    "def embed_loss(Usr, Itm, intmatrix, wbl=0):\n",
    "    mat = np.matmul(Usr, Itm)\n",
    "    posquant = mat[intmatrix>0].sum()\n",
    "    negquant = mat[intmatrix<0].sum()\n",
    "    return negquant-posquant"
   ]
  },
  {
   "cell_type": "code",
   "execution_count": 20,
   "metadata": {},
   "outputs": [
    {
     "data": {
      "text/plain": [
       "-6662.141534947114"
      ]
     },
     "execution_count": 20,
     "metadata": {},
     "output_type": "execute_result"
    }
   ],
   "source": [
    "embed_loss(Usr, Itm, intmatrix)"
   ]
  },
  {
   "cell_type": "code",
   "execution_count": null,
   "metadata": {},
   "outputs": [],
   "source": []
  },
  {
   "cell_type": "code",
   "execution_count": null,
   "metadata": {},
   "outputs": [],
   "source": []
  },
  {
   "cell_type": "code",
   "execution_count": null,
   "metadata": {},
   "outputs": [],
   "source": []
  }
 ],
 "metadata": {
  "kernelspec": {
   "display_name": "Python 3",
   "language": "python",
   "name": "python3"
  },
  "language_info": {
   "codemirror_mode": {
    "name": "ipython",
    "version": 3
   },
   "file_extension": ".py",
   "mimetype": "text/x-python",
   "name": "python",
   "nbconvert_exporter": "python",
   "pygments_lexer": "ipython3",
   "version": "3.6.8"
  }
 },
 "nbformat": 4,
 "nbformat_minor": 2
}
