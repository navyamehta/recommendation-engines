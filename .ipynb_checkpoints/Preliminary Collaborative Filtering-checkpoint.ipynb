{
 "cells": [
  {
   "cell_type": "code",
   "execution_count": 179,
   "metadata": {},
   "outputs": [],
   "source": [
    "import pandas as pd\n",
    "import numpy as np\n",
    "import scipy as sp\n",
    "import os\n",
    "import matplotlib.pyplot as plt\n",
    "import seaborn as sns"
   ]
  },
  {
   "cell_type": "markdown",
   "metadata": {},
   "source": [
    "<h2> Load User Interaction Matrix </h2>"
   ]
  },
  {
   "cell_type": "code",
   "execution_count": 180,
   "metadata": {},
   "outputs": [],
   "source": [
    "train_x = pd.read_csv(\"./data/MovieLens/ua.base\", sep='\\t', encoding='latin-1', header=None)\n",
    "test_x = pd.read_csv(\"./data/MovieLens/ua.test\", sep='\\t', encoding='latin-1', header=None)\n",
    "for df in [train_x, test_x]:\n",
    "    df.columns = ['user_id', 'movie_id', 'rating', 'unix_timestamp']"
   ]
  },
  {
   "cell_type": "code",
   "execution_count": 181,
   "metadata": {},
   "outputs": [
    {
     "name": "stdout",
     "output_type": "stream",
     "text": [
      "(943, 1682)\n"
     ]
    }
   ],
   "source": [
    "num_users, num_movie = train_x.user_id.max(), train_x.movie_id.max()\n",
    "intmatrix = np.zeros((num_users, num_movie), dtype=np.float64)\n",
    "for row in train_x.itertuples():\n",
    "    intmatrix[row[1]-1, row[2]-1] = row[3]\n",
    "print(intmatrix.shape)"
   ]
  },
  {
   "cell_type": "markdown",
   "metadata": {},
   "source": [
    "<h2> Vanilla User-User and Item-Item Similarity </h2>"
   ]
  },
  {
   "cell_type": "code",
   "execution_count": 182,
   "metadata": {},
   "outputs": [],
   "source": [
    "def optimized_row_cosine_sim(matrix): #nxm matrix\n",
    "    dot = np.matmul(matrix, matrix.T) #nxn dot products\n",
    "    lth = np.sqrt((matrix**2).sum(axis=1)) #nx1 length vector\n",
    "    rowlth = np.repeat(lth.reshape(-1,1), matrix.shape[0], axis=1)\n",
    "    collth = np.repeat(lth.reshape(1,-1), matrix.shape[0], axis=0)\n",
    "    return dot/(rowlth*collth+1e-8) #1e-8 avoids div0 errors for unknown entries"
   ]
  },
  {
   "cell_type": "code",
   "execution_count": 183,
   "metadata": {},
   "outputs": [
    {
     "data": {
      "text/plain": [
       "((943, 943), (1682, 1682))"
      ]
     },
     "execution_count": 183,
     "metadata": {},
     "output_type": "execute_result"
    }
   ],
   "source": [
    "user_similarity = optimized_row_cosine_sim(intmatrix)\n",
    "item_similarity = optimized_row_cosine_sim(intmatrix.T)\n",
    "user_similarity.shape, item_similarity.shape"
   ]
  },
  {
   "cell_type": "code",
   "execution_count": 184,
   "metadata": {},
   "outputs": [],
   "source": [
    "def user_recommender_help(ratematrix, simmatrix):\n",
    "    mean_rating = np.nanmean(ratematrix, axis=1)\n",
    "    diff = (ratematrix-mean_rating.reshape(-1,1))\n",
    "    preddiff = np.matmul(simmatrix, diff)/(np.repeat(np.sum(np.abs(\n",
    "        simmatrix), axis=1).reshape(-1,1), ratematrix.shape[1], axis=1)+1e-8) #Div0 error avoidance\n",
    "    return np.repeat(mean_rating.reshape(-1,1), ratematrix.shape[1], axis=1)+preddiff\n",
    "def top_k_unseen_user_recommender(ratematrix, simmatrix, user, k):\n",
    "    predrating = user_recommender_help(ratematrix, simmatrix)[user]\n",
    "    predrating = pd.Series(predrating)[np.where(ratematrix[user]==0)[0]].sort_values(ascending=False)\n",
    "    return predrating.iloc[:k]"
   ]
  },
  {
   "cell_type": "code",
   "execution_count": 185,
   "metadata": {},
   "outputs": [
    {
     "data": {
      "text/plain": [
       "317    2.171805\n",
       "422    2.072825\n",
       "356    1.987419\n",
       "116    1.965397\n",
       "201    1.919865\n",
       "dtype: float64"
      ]
     },
     "execution_count": 185,
     "metadata": {},
     "output_type": "execute_result"
    }
   ],
   "source": [
    "#Top items to be recommended to chosen user\n",
    "top_k_unseen_user_recommender(intmatrix, user_similarity, 0, 5)"
   ]
  },
  {
   "cell_type": "code",
   "execution_count": 186,
   "metadata": {},
   "outputs": [],
   "source": [
    "def item_recommender_help(ratematrix, simmatrix):\n",
    "    mean_rating = np.nanmean(ratematrix, axis=1)\n",
    "    diff = (ratematrix-mean_rating.reshape(-1,1)).T\n",
    "    predfit = np.matmul(simmatrix, diff)/(np.repeat(np.sum(np.abs(\n",
    "    simmatrix), axis=1).reshape(-1,1), diff.shape[1], axis=1)+1e-8) #Div0 error avoidance\n",
    "    return predfit\n",
    "def top_k_users_for_item_recommender(ratematrix, simmatrix, item, k):\n",
    "    predfit = item_recommender_help(ratematrix, simmatrix)[item]\n",
    "    predfit = pd.Series(predfit)[np.where(ratematrix[:,item]==0)[0]].sort_values(ascending=False)\n",
    "    return predfit.iloc[:k]"
   ]
  },
  {
   "cell_type": "code",
   "execution_count": 187,
   "metadata": {},
   "outputs": [
    {
     "data": {
      "text/plain": [
       "6      0.748582\n",
       "307    0.740049\n",
       "550    0.728063\n",
       "473    0.703333\n",
       "845    0.691157\n",
       "dtype: float64"
      ]
     },
     "execution_count": 187,
     "metadata": {},
     "output_type": "execute_result"
    }
   ],
   "source": [
    "#Top users who might really like chosen item\n",
    "top_k_users_for_item_recommender(intmatrix, item_similarity, 0, 5)"
   ]
  },
  {
   "cell_type": "code",
   "execution_count": null,
   "metadata": {},
   "outputs": [],
   "source": []
  },
  {
   "cell_type": "markdown",
   "metadata": {},
   "source": [
    "<h2> Improving Vanilla Similarity with Targetted Comparisons </h2>"
   ]
  },
  {
   "cell_type": "code",
   "execution_count": null,
   "metadata": {},
   "outputs": [],
   "source": []
  }
 ],
 "metadata": {
  "kernelspec": {
   "display_name": "Python 3",
   "language": "python",
   "name": "python3"
  },
  "language_info": {
   "codemirror_mode": {
    "name": "ipython",
    "version": 3
   },
   "file_extension": ".py",
   "mimetype": "text/x-python",
   "name": "python",
   "nbconvert_exporter": "python",
   "pygments_lexer": "ipython3",
   "version": "3.6.8"
  }
 },
 "nbformat": 4,
 "nbformat_minor": 2
}
