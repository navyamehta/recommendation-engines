{
 "cells": [
  {
   "cell_type": "code",
   "execution_count": 63,
   "metadata": {},
   "outputs": [],
   "source": [
    "import pandas as pd\n",
    "import numpy as np\n",
    "import scipy as sp\n",
    "import tensorflow as tf\n",
    "import tensorflow.keras as keras\n",
    "from tensorflow.keras.models import Sequential, Model, load_model\n",
    "from tensorflow.keras.layers import Dense, Lambda, Activation, Input\n",
    "import tensorflow.keras.backend as K\n",
    "import sklearn.preprocessing\n",
    "import gc\n",
    "import psutil\n",
    "import collections\n",
    "import matplotlib.pyplot as plt\n",
    "import seaborn as sns"
   ]
  },
  {
   "cell_type": "markdown",
   "metadata": {},
   "source": [
    "<h2> Generate Training Data for Network </h2>"
   ]
  },
  {
   "cell_type": "code",
   "execution_count": 57,
   "metadata": {},
   "outputs": [],
   "source": [
    "intmatrix = np.load(\"./data/movie-matrix.npz\")['data']\n",
    "mean = np.sum(intmatrix, axis=1)/(intmatrix!=0).sum(axis=1)\n",
    "zmask = intmatrix==0\n",
    "intmatrix = intmatrix-mean.reshape(-1,1)\n",
    "intmatrix[zmask]=0"
   ]
  },
  {
   "cell_type": "code",
   "execution_count": 67,
   "metadata": {},
   "outputs": [
    {
     "data": {
      "image/png": "[encoded data removed]",
      "text/plain": [
       "<Figure size 360x360 with 1 Axes>"
      ]
     },
     "metadata": {
      "needs_background": "light"
     },
     "output_type": "display_data"
    },
    {
     "data": {
      "text/plain": [
       "((89938, 1682), (89938, 943), (89938,))"
      ]
     },
     "execution_count": 67,
     "metadata": {},
     "output_type": "execute_result"
    }
   ],
   "source": [
    "Usr = np.repeat(intmatrix, np.sum(intmatrix!=0, axis=1), axis=0)\n",
    "Itm = np.zeros((np.sum(intmatrix!=0),intmatrix.shape[0]), dtype=np.float64)\n",
    "pos = 0\n",
    "for i in range(intmatrix.shape[0]):\n",
    "    newval = intmatrix[:,intmatrix[i]!=0].T\n",
    "    Itm[pos:pos+newval.shape[0],:] = newval\n",
    "    pos+=newval.shape[0]\n",
    "Y = (sklearn.preprocessing.StandardScaler().fit_transform(intmatrix[intmatrix!=0].reshape(-1,1))[:,0]+1)/2\n",
    "Y[Y>1], Y[Y<0]= 1, 0\n",
    "plt.figure(figsize=(5,5))\n",
    "plt.hist(Y, density=True, alpha=0.75, bins=30)\n",
    "plt.title(\"Standard-Scaled Label Smoothening on [0,1]\")\n",
    "plt.xlabel(\"Label\")\n",
    "plt.ylabel(\"Density\")\n",
    "plt.show()\n",
    "Usr.shape, Itm.shape, Y.shape"
   ]
  },
  {
   "cell_type": "code",
   "execution_count": 99,
   "metadata": {},
   "outputs": [
    {
     "data": {
      "text/plain": [
       "((71951, 1682), (71951, 943), (71951,))"
      ]
     },
     "execution_count": 99,
     "metadata": {},
     "output_type": "execute_result"
    }
   ],
   "source": [
    "np.random.seed(1)\n",
    "testindex = np.random.choice(Usr.shape[0], np.int(0.2*Usr.shape[0]), replace=False)\n",
    "trainindex = np.array(list(set(np.arange(Usr.shape[0]))-set(testindex)))\n",
    "trainU, testU = Usr[trainindex], Usr[testindex]\n",
    "trainI, testI = Itm[trainindex], Itm[testindex]\n",
    "trainY, testY = Y[trainindex], Y[testindex]\n",
    "trainU.shape, trainI.shape, trainY.shape"
   ]
  },
  {
   "cell_type": "code",
   "execution_count": null,
   "metadata": {},
   "outputs": [],
   "source": []
  },
  {
   "cell_type": "markdown",
   "metadata": {},
   "source": [
    "<h2>Design Siamese Network</h2>"
   ]
  },
  {
   "cell_type": "code",
   "execution_count": 76,
   "metadata": {},
   "outputs": [],
   "source": [
    "def smoothened_entropy(ytrue, ypred):\n",
    "    return -tf.math.reduce_sum(tf.math.log(1-tf.math.abs(ypred-ytrue)))"
   ]
  },
  {
   "cell_type": "code",
   "execution_count": 112,
   "metadata": {},
   "outputs": [
    {
     "name": "stdout",
     "output_type": "stream",
     "text": [
      "Model: \"model\"\n",
      "__________________________________________________________________________________________________\n",
      "Layer (type)                    Output Shape         Param #     Connected to                     \n",
      "==================================================================================================\n",
      "input_1 (InputLayer)            [(None, 1682)]       0                                            \n",
      "__________________________________________________________________________________________________\n",
      "input_2 (InputLayer)            [(None, 943)]        0                                            \n",
      "__________________________________________________________________________________________________\n",
      "dense (Dense)                   (None, 256)          430848      input_1[0][0]                    \n",
      "__________________________________________________________________________________________________\n",
      "dense_1 (Dense)                 (None, 256)          241664      input_2[0][0]                    \n",
      "__________________________________________________________________________________________________\n",
      "lambda (Lambda)                 (None, 256)          0           dense[0][0]                      \n",
      "                                                                 dense_1[0][0]                    \n",
      "__________________________________________________________________________________________________\n",
      "dense_2 (Dense)                 (None, 1)            257         lambda[0][0]                     \n",
      "==================================================================================================\n",
      "Total params: 672,769\n",
      "Trainable params: 672,769\n",
      "Non-trainable params: 0\n",
      "__________________________________________________________________________________________________\n"
     ]
    }
   ],
   "source": [
    "K.clear_session()\n",
    "userinput = Input(Usr.shape[1])\n",
    "iteminput = Input(Itm.shape[1])\n",
    "#Use fixed 256-length internal vector embeddings\n",
    "latentdim = 256\n",
    "Du = Dense(latentdim, activation=\"relu\")(userinput)\n",
    "Di = Dense(latentdim, activation=\"relu\")(iteminput)\n",
    "L1dist = Lambda(lambda tensors: tensors[0]-tensors[1])\n",
    "emb = L1dist([Du, Di])\n",
    "output = Dense(1, activation=\"sigmoid\")(emb)\n",
    "model = Model(inputs=[userinput, iteminput], outputs=output)\n",
    "model.compile(optimizer=keras.optimizers.Adam(learning_rate=1e-3), loss=smoothened_entropy)\n",
    "model.summary()"
   ]
  },
  {
   "cell_type": "markdown",
   "metadata": {},
   "source": [
    "<h2>Train Siamese Network</h2>"
   ]
  },
  {
   "cell_type": "code",
   "execution_count": 113,
   "metadata": {},
   "outputs": [],
   "source": [
    "def lrscheduler(epoch, init=1e-3):\n",
    "    return init*0.95**(epoch-5) if epoch>5 else init"
   ]
  },
  {
   "cell_type": "code",
   "execution_count": 114,
   "metadata": {},
   "outputs": [
    {
     "name": "stdout",
     "output_type": "stream",
     "text": [
      "Train on 71951 samples, validate on 17987 samples\n",
      "Epoch 1/20\n",
      "71951/71951 [==============================] - 3s 42us/sample - loss: -0.1614 - val_loss: -0.1737\n",
      "Epoch 2/20\n",
      "71951/71951 [==============================] - 2s 24us/sample - loss: -0.1727 - val_loss: -0.1745\n",
      "Epoch 3/20\n",
      "71951/71951 [==============================] - 2s 23us/sample - loss: -0.1731 - val_loss: -0.1747\n",
      "Epoch 4/20\n",
      "71951/71951 [==============================] - 2s 23us/sample - loss: -0.1732 - val_loss: -0.1748\n",
      "Epoch 5/20\n",
      "71951/71951 [==============================] - 2s 23us/sample - loss: -0.1733 - val_loss: -0.1749\n",
      "Epoch 6/20\n",
      "71951/71951 [==============================] - 2s 22us/sample - loss: -0.1733 - val_loss: -0.1749\n",
      "Epoch 7/20\n",
      "71951/71951 [==============================] - 2s 23us/sample - loss: -0.1733 - val_loss: -0.1749\n",
      "Epoch 8/20\n",
      "71951/71951 [==============================] - 2s 24us/sample - loss: -0.1733 - val_loss: -0.1749\n",
      "Epoch 9/20\n",
      "71951/71951 [==============================] - 2s 23us/sample - loss: -0.1733 - val_loss: -0.1749\n",
      "Epoch 10/20\n",
      "71951/71951 [==============================] - 2s 23us/sample - loss: -0.1733 - val_loss: -0.1749\n",
      "Epoch 11/20\n",
      "71951/71951 [==============================] - 2s 26us/sample - loss: -0.1733 - val_loss: -0.1749\n",
      "Epoch 12/20\n",
      "71951/71951 [==============================] - 2s 24us/sample - loss: -0.1733 - val_loss: -0.1749\n",
      "Epoch 13/20\n",
      "71951/71951 [==============================] - 2s 24us/sample - loss: -0.1733 - val_loss: -0.1749\n",
      "Epoch 14/20\n",
      "71951/71951 [==============================] - 2s 24us/sample - loss: -0.1733 - val_loss: -0.1749\n",
      "Epoch 15/20\n",
      "71951/71951 [==============================] - 2s 24us/sample - loss: -0.1733 - val_loss: -0.1749\n",
      "Epoch 16/20\n",
      "71951/71951 [==============================] - 2s 25us/sample - loss: -0.1733 - val_loss: -0.1749\n",
      "Epoch 17/20\n",
      "71951/71951 [==============================] - 2s 24us/sample - loss: -0.1733 - val_loss: -0.1749\n",
      "Epoch 18/20\n",
      "71951/71951 [==============================] - 2s 24us/sample - loss: -0.1733 - val_loss: -0.1749\n",
      "Epoch 19/20\n",
      "71951/71951 [==============================] - 2s 24us/sample - loss: -0.1733 - val_loss: -0.1749\n",
      "Epoch 20/20\n",
      "71951/71951 [==============================] - 2s 23us/sample - loss: -0.1733 - val_loss: -0.1749\n"
     ]
    }
   ],
   "source": [
    "lr = tf.keras.callbacks.LearningRateScheduler(lrscheduler, verbose=0)\n",
    "chk = tf.keras.callbacks.ModelCheckpoint(\"./data/siam.h5\", monitor=\"val_loss\", save_weights_only=True, \n",
    "                                         save_best_only=True, save_freq=\"epoch\")\n",
    "hist = model.fit([trainU, trainI], trainY, validation_data=([testU, testI], testY), batch_size=512, \n",
    "                callbacks=[chk, lr], epochs=20)"
   ]
  },
  {
   "cell_type": "code",
   "execution_count": null,
   "metadata": {},
   "outputs": [],
   "source": []
  }
 ],
 "metadata": {
  "kernelspec": {
   "display_name": "Python 3",
   "language": "python",
   "name": "python3"
  },
  "language_info": {
   "codemirror_mode": {
    "name": "ipython",
    "version": 3
   },
   "file_extension": ".py",
   "mimetype": "text/x-python",
   "name": "python",
   "nbconvert_exporter": "python",
   "pygments_lexer": "ipython3",
   "version": "3.6.8"
  }
 },
 "nbformat": 4,
 "nbformat_minor": 2
}
